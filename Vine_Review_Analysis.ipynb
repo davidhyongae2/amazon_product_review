{
 "cells": [
  {
   "cell_type": "code",
   "execution_count": 1,
   "metadata": {
    "colab": {
     "base_uri": "https://localhost:8080/"
    },
    "id": "rVad3p9WcRCa",
    "outputId": "428fd57b-9324-4993-e0dc-e01702261ac4"
   },
   "outputs": [
    {
     "name": "stdout",
     "output_type": "stream",
     "text": [
      "\u001b[33mWarning:\u001b[0m openjdk@11 11.0.12 is already installed and up-to-date.\n",
      "To reinstall 11.0.12, run:\n",
      "  brew reinstall openjdk@11\n",
      "\u001b[33mWARNING: Ignoring invalid distribution -arso (/Users/davidgae/miniconda3/lib/python3.6/site-packages)\u001b[0m\n",
      "\u001b[33mWARNING: Ignoring invalid distribution -arso (/Users/davidgae/miniconda3/lib/python3.6/site-packages)\u001b[0m\n",
      "Requirement already satisfied: py4j in /Users/davidgae/miniconda3/lib/python3.6/site-packages (0.10.9.2)\n",
      "\u001b[33mWARNING: Ignoring invalid distribution -arso (/Users/davidgae/miniconda3/lib/python3.6/site-packages)\u001b[0m\n",
      "\u001b[33mWARNING: Ignoring invalid distribution -arso (/Users/davidgae/miniconda3/lib/python3.6/site-packages)\u001b[0m\n",
      "\u001b[33mWARNING: Ignoring invalid distribution -arso (/Users/davidgae/miniconda3/lib/python3.6/site-packages)\u001b[0m\n",
      "\u001b[33mWARNING: Ignoring invalid distribution -arso (/Users/davidgae/miniconda3/lib/python3.6/site-packages)\u001b[0m\n",
      "\u001b[33mWARNING: Ignoring invalid distribution -arso (/Users/davidgae/miniconda3/lib/python3.6/site-packages)\u001b[0m\n",
      "\u001b[33mWARNING: Ignoring invalid distribution -arso (/Users/davidgae/miniconda3/lib/python3.6/site-packages)\u001b[0m\n",
      "Requirement already satisfied: findspark in /Users/davidgae/miniconda3/lib/python3.6/site-packages (1.4.2)\n",
      "\u001b[33mWARNING: Ignoring invalid distribution -arso (/Users/davidgae/miniconda3/lib/python3.6/site-packages)\u001b[0m\n",
      "\u001b[33mWARNING: Ignoring invalid distribution -arso (/Users/davidgae/miniconda3/lib/python3.6/site-packages)\u001b[0m\n",
      "\u001b[33mWARNING: Ignoring invalid distribution -arso (/Users/davidgae/miniconda3/lib/python3.6/site-packages)\u001b[0m\n",
      "\u001b[33mWARNING: Ignoring invalid distribution -arso (/Users/davidgae/miniconda3/lib/python3.6/site-packages)\u001b[0m\n",
      "\u001b[33mWARNING: Ignoring invalid distribution -arso (/Users/davidgae/miniconda3/lib/python3.6/site-packages)\u001b[0m\n",
      "\u001b[33mWARNING: Ignoring invalid distribution -arso (/Users/davidgae/miniconda3/lib/python3.6/site-packages)\u001b[0m\n",
      "Requirement already satisfied: pyspark in /Users/davidgae/miniconda3/lib/python3.6/site-packages (3.2.0)\n",
      "Requirement already satisfied: py4j==0.10.9.2 in /Users/davidgae/miniconda3/lib/python3.6/site-packages (from pyspark) (0.10.9.2)\n",
      "\u001b[33mWARNING: Ignoring invalid distribution -arso (/Users/davidgae/miniconda3/lib/python3.6/site-packages)\u001b[0m\n",
      "\u001b[33mWARNING: Ignoring invalid distribution -arso (/Users/davidgae/miniconda3/lib/python3.6/site-packages)\u001b[0m\n",
      "\u001b[33mWARNING: Ignoring invalid distribution -arso (/Users/davidgae/miniconda3/lib/python3.6/site-packages)\u001b[0m\n",
      "\u001b[33mWARNING: Ignoring invalid distribution -arso (/Users/davidgae/miniconda3/lib/python3.6/site-packages)\u001b[0m\n"
     ]
    }
   ],
   "source": [
    "import os\n",
    "# Find the latest version of spark 3.0 from http://www.apache.org/dist/spark/ and enter as the spark version\n",
    "# For example:\n",
    "# spark_version = 'spark-3.0.3'\n",
    "spark_version = 'spark-3.0.3'\n",
    "os.environ['SPARK_VERSION']=spark_version\n",
    "\n",
    "# Install Spark and Java\n",
    "!brew upgrade\n",
    "!brew install openjdk@11 \n",
    "!pip install py4j\n",
    "!pip install findspark\n",
    "!wget -q http://www.apache.org/dist/spark/$SPARK_VERSION/$SPARK_VERSION-bin-hadoop2.7.tgz\n",
    "!tar xf $SPARK_VERSION-bin-hadoop2.7.tgz\n",
    "!pip install pyspark\n",
    "\n",
    "# Set Environment Variables\n",
    "import os\n",
    "os.environ[\"JAVA_HOME\"] = \"/usr/local/Cellar/openjdk@11/11.0.12\"\n",
    "os.environ[\"SPARK_HOME\"] = \"/Users/davidgae/project16/spark-3.0.3-bin-hadoop2.7\"\n",
    "\n",
    "# Start a SparkSession\n",
    "import findspark\n",
    "findspark.init()"
   ]
  },
  {
   "cell_type": "code",
   "execution_count": 2,
   "metadata": {
    "id": "DtHWJAxrcf2y"
   },
   "outputs": [],
   "source": [
    "# Start Spark session\n",
    "from pyspark.sql import SparkSession\n",
    "spark = SparkSession.builder.appName(\"VineReviewAnalysis\").getOrCreate()"
   ]
  },
  {
   "cell_type": "code",
   "execution_count": 3,
   "metadata": {
    "colab": {
     "base_uri": "https://localhost:8080/"
    },
    "id": "rBrkzhxpchKR",
    "outputId": "6090f255-21d9-4157-9e94-09a5ac3e7a37"
   },
   "outputs": [
    {
     "data": {
      "text/plain": [
       "6106719"
      ]
     },
     "execution_count": 3,
     "metadata": {},
     "output_type": "execute_result"
    }
   ],
   "source": [
    "# There is a DataFrame or table for the vine_table data using one of three methods above\n",
    "from pyspark import SparkFiles\n",
    "url = \"https://s3.amazonaws.com/amazon-reviews-pds/tsv/amazon_reviews_us_Books_v1_01.tsv.gz\"\n",
    "spark.sparkContext.addFile(url)\n",
    "books_df = spark.read.option(\"encoding\", \"UTF-8\").csv(SparkFiles.get(\"amazon_reviews_us_Books_v1_01.tsv.gz\"), sep=\"\\t\", header=True, inferSchema=True)\n",
    "\n",
    "# Row Count\n",
    "books_df.count()"
   ]
  },
  {
   "cell_type": "code",
   "execution_count": 14,
   "metadata": {
    "colab": {
     "base_uri": "https://localhost:8080/"
    },
    "id": "m09Af3nFcjMp",
    "outputId": "316cc5ec-640c-47a2-af1c-dbc5d5852f16"
   },
   "outputs": [
    {
     "name": "stdout",
     "output_type": "stream",
     "text": [
      "+--------------+-----------+-------------+-----------+----+-----------------+\n",
      "|     review_id|star_rating|helpful_votes|total_votes|vine|verified_purchase|\n",
      "+--------------+-----------+-------------+-----------+----+-----------------+\n",
      "|R28HBXXO1UEVJT|          5|            0|          0|   N|                N|\n",
      "| RZKRFS2UUMFFU|          5|           15|         15|   N|                Y|\n",
      "|R2WAU9MD9K6JQA|          3|            6|          8|   N|                N|\n",
      "|R36SCTKYTVPZPC|          5|           10|         11|   N|                Y|\n",
      "|R10BM6JUOJX27Q|          3|            0|          0|   Y|                N|\n",
      "+--------------+-----------+-------------+-----------+----+-----------------+\n",
      "only showing top 5 rows\n",
      "\n"
     ]
    }
   ],
   "source": [
    "from pyspark.sql.functions import col, avg\n",
    "\n",
    "# Filter by voters.\n",
    "filtered_books_df = books_df.select([\"review_id\", \"star_rating\", \"helpful_votes\", \"total_votes\", \"vine\", \"verified_purchase\"])\n",
    "filtered_books_df.show(5)"
   ]
  },
  {
   "cell_type": "code",
   "execution_count": 13,
   "metadata": {
    "colab": {
     "base_uri": "https://localhost:8080/"
    },
    "id": "yRAr6elTclia",
    "outputId": "d07a83fe-1561-4deb-86c7-3b916dc05ecb"
   },
   "outputs": [
    {
     "name": "stdout",
     "output_type": "stream",
     "text": [
      "+--------------+-----------+-------------+-----------+----+-----------------+\n",
      "|     review_id|star_rating|helpful_votes|total_votes|vine|verified_purchase|\n",
      "+--------------+-----------+-------------+-----------+----+-----------------+\n",
      "|R18VIM840CEFRP|          1|           16|        105|   N|                N|\n",
      "|R14PMAJTY0EAAT|          4|          135|        142|   N|                Y|\n",
      "|R1363VA3TPNLVB|          5|          370|        388|   N|                Y|\n",
      "| RBQZC5A3TSWT5|          5|           11|         22|   N|                Y|\n",
      "| RW00TDPV9U93E|          1|           35|         76|   N|                N|\n",
      "+--------------+-----------+-------------+-----------+----+-----------------+\n",
      "only showing top 5 rows\n",
      "\n"
     ]
    }
   ],
   "source": [
    "# The data is filtered to create a DataFrame or table where there are 20 or more total votes (5 pt)\n",
    "greater_than_twenty_df = filtered_books_df.filter(filtered_books_df['total_votes'] >= 20)\n",
    "greater_than_twenty_df.show(5)"
   ]
  },
  {
   "cell_type": "code",
   "execution_count": 12,
   "metadata": {
    "colab": {
     "base_uri": "https://localhost:8080/"
    },
    "id": "90eE_5Pbcmsr",
    "outputId": "253a36ac-a7a7-4c94-b869-f376430357b3"
   },
   "outputs": [
    {
     "name": "stdout",
     "output_type": "stream",
     "text": [
      "+--------------+-----------+-------------+-----------+----+-----------------+\n",
      "|     review_id|star_rating|helpful_votes|total_votes|vine|verified_purchase|\n",
      "+--------------+-----------+-------------+-----------+----+-----------------+\n",
      "|R14PMAJTY0EAAT|          4|          135|        142|   N|                Y|\n",
      "|R1363VA3TPNLVB|          5|          370|        388|   N|                Y|\n",
      "| RBQZC5A3TSWT5|          5|           11|         22|   N|                Y|\n",
      "|R3OW0AIVLEDIQ7|          3|           99|        121|   N|                N|\n",
      "|R3DTESO4FUAPKQ|          5|           90|        102|   N|                N|\n",
      "+--------------+-----------+-------------+-----------+----+-----------------+\n",
      "only showing top 5 rows\n",
      "\n"
     ]
    }
   ],
   "source": [
    "# The data is filtered to create a DataFrame or table where the percentage of helpful_votes is equal to or greater than 50% (5 pt)\n",
    "fifty_percent_cut_df = greater_than_twenty_df.filter(greater_than_twenty_df[\"helpful_votes\"]/greater_than_twenty_df[\"total_votes\"] >= 0.5)\n",
    "fifty_percent_cut_df.show(5)"
   ]
  },
  {
   "cell_type": "code",
   "execution_count": 11,
   "metadata": {
    "colab": {
     "base_uri": "https://localhost:8080/"
    },
    "id": "Yrb6WP2ecouc",
    "outputId": "652150ab-0ae9-4efb-9adc-168d725e6cf2"
   },
   "outputs": [
    {
     "name": "stdout",
     "output_type": "stream",
     "text": [
      "+--------------+-----------+-------------+-----------+----+-----------------+\n",
      "|     review_id|star_rating|helpful_votes|total_votes|vine|verified_purchase|\n",
      "+--------------+-----------+-------------+-----------+----+-----------------+\n",
      "|R2Z8083V8ZFQVZ|          3|           82|         87|   Y|                N|\n",
      "| RK25TAO4GGS5G|          3|           22|         24|   Y|                N|\n",
      "|R2SJQG3C6KY0M8|          3|           18|         20|   Y|                N|\n",
      "|R12CHC0CB2WASU|          5|           43|         48|   Y|                N|\n",
      "|R2RY328TIDXMTE|          2|           50|         61|   Y|                N|\n",
      "+--------------+-----------+-------------+-----------+----+-----------------+\n",
      "only showing top 5 rows\n",
      "\n"
     ]
    }
   ],
   "source": [
    "# The data is filtered to create a DataFrame or table where there is a Vine review (5 pt)\n",
    "vine_review_df = fifty_percent_cut_df.filter(fifty_percent_cut_df['vine']== 'Y')\n",
    "vine_review_df.show(5)"
   ]
  },
  {
   "cell_type": "code",
   "execution_count": 10,
   "metadata": {
    "colab": {
     "base_uri": "https://localhost:8080/"
    },
    "id": "w8a9nGgvcqn2",
    "outputId": "8156b260-32fc-4196-c528-5c0a1c7b3da4"
   },
   "outputs": [
    {
     "name": "stdout",
     "output_type": "stream",
     "text": [
      "+--------------+-----------+-------------+-----------+----+-----------------+\n",
      "|     review_id|star_rating|helpful_votes|total_votes|vine|verified_purchase|\n",
      "+--------------+-----------+-------------+-----------+----+-----------------+\n",
      "|R14PMAJTY0EAAT|          4|          135|        142|   N|                Y|\n",
      "|R1363VA3TPNLVB|          5|          370|        388|   N|                Y|\n",
      "| RBQZC5A3TSWT5|          5|           11|         22|   N|                Y|\n",
      "|R3OW0AIVLEDIQ7|          3|           99|        121|   N|                N|\n",
      "|R3DTESO4FUAPKQ|          5|           90|        102|   N|                N|\n",
      "+--------------+-----------+-------------+-----------+----+-----------------+\n",
      "only showing top 5 rows\n",
      "\n"
     ]
    }
   ],
   "source": [
    "# The data is filtered to create a DataFrame or table where there isn’t a Vine review (5 pt)\n",
    "no_vine_review_df = fifty_percent_cut_df.filter(fifty_percent_cut_df['vine']== 'N')\n",
    "no_vine_review_df.show(5)"
   ]
  },
  {
   "cell_type": "code",
   "execution_count": 9,
   "metadata": {
    "colab": {
     "base_uri": "https://localhost:8080/"
    },
    "id": "AGAAS6RMcsD7",
    "outputId": "182a919e-2072-4630-9fe4-5095d5fc02fa"
   },
   "outputs": [
    {
     "name": "stdout",
     "output_type": "stream",
     "text": [
      "4781\n",
      "1604\n",
      "0.33549466638778497\n",
      "332395\n",
      "168800\n",
      "0.5078295401555378\n",
      "337176\n"
     ]
    }
   ],
   "source": [
    "# The total number of reviews, the number of 5-star reviews, and the percentage 5-star reviews are calculated for all Vine and non-Vine reviews (15 pt)\n",
    "\n",
    "# Determine the percentage of five-star reviews among Vine reviews\n",
    "vine_number = vine_review_df.count()\n",
    "vine_five_star_number = vine_review_df.filter(vine_review_df['star_rating']== 5).count()\n",
    "percentage_five_star_vine = float(vine_five_star_number) / float(vine_number)\n",
    "print(vine_number)\n",
    "print(vine_five_star_number)\n",
    "print(percentage_five_star_vine)\n",
    "\n",
    "# Determine the percentage of five-star reviews among non-Vine reviews.\n",
    "no_vine_number = no_vine_review_df.count()\n",
    "no_vine_five_star_number = no_vine_review_df.filter(no_vine_review_df['star_rating']== 5).count()\n",
    "percentage_five_star_no_vine = float(no_vine_five_star_number) / float(no_vine_number)\n",
    "print(no_vine_number)\n",
    "print(no_vine_five_star_number)\n",
    "print(percentage_five_star_no_vine)\n",
    "\n",
    "# Total amount of reviews\n",
    "print(vine_number + no_vine_number)"
   ]
  },
  {
   "cell_type": "code",
   "execution_count": null,
   "metadata": {
    "id": "ArqJ54yQjRvj"
   },
   "outputs": [],
   "source": []
  }
 ],
 "metadata": {
  "colab": {
   "name": "Vine_Review_Analysis.ipynb",
   "provenance": []
  },
  "kernelspec": {
   "display_name": "Python 3",
   "language": "python",
   "name": "python3"
  },
  "language_info": {
   "codemirror_mode": {
    "name": "ipython",
    "version": 3
   },
   "file_extension": ".py",
   "mimetype": "text/x-python",
   "name": "python",
   "nbconvert_exporter": "python",
   "pygments_lexer": "ipython3",
   "version": "3.6.10"
  }
 },
 "nbformat": 4,
 "nbformat_minor": 1
}
